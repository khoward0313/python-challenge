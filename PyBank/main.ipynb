{
 "cells": [
  {
   "cell_type": "code",
   "execution_count": 79,
   "id": "279a3328",
   "metadata": {},
   "outputs": [],
   "source": [
    "import pandas as pd\n",
    "import os \n",
    "import csv"
   ]
  },
  {
   "cell_type": "code",
   "execution_count": 80,
   "id": "dd41fcf3",
   "metadata": {},
   "outputs": [
    {
     "data": {
      "text/plain": [
       "'Resources/budget_data.csv'"
      ]
     },
     "execution_count": 80,
     "metadata": {},
     "output_type": "execute_result"
    }
   ],
   "source": [
    "budget_csv = os.path.join (\"Resources\",\"budget_data.csv\")\n",
    "budget_csv"
   ]
  },
  {
   "cell_type": "code",
   "execution_count": 85,
   "id": "485cf0e5",
   "metadata": {},
   "outputs": [],
   "source": [
    "with open(budget_csv) as csv_file:\n",
    "    csv_reader=csv.reader(csv_file)"
   ]
  },
  {
   "cell_type": "code",
   "execution_count": 86,
   "id": "24d99404",
   "metadata": {},
   "outputs": [],
   "source": [
    "budget_df = pd.read_csv(budget_csv)"
   ]
  },
  {
   "cell_type": "code",
   "execution_count": 87,
   "id": "bab6d67a",
   "metadata": {},
   "outputs": [
    {
     "data": {
      "text/html": [
       "<div>\n",
       "<style scoped>\n",
       "    .dataframe tbody tr th:only-of-type {\n",
       "        vertical-align: middle;\n",
       "    }\n",
       "\n",
       "    .dataframe tbody tr th {\n",
       "        vertical-align: top;\n",
       "    }\n",
       "\n",
       "    .dataframe thead th {\n",
       "        text-align: right;\n",
       "    }\n",
       "</style>\n",
       "<table border=\"1\" class=\"dataframe\">\n",
       "  <thead>\n",
       "    <tr style=\"text-align: right;\">\n",
       "      <th></th>\n",
       "      <th>Date</th>\n",
       "      <th>Profit/Losses</th>\n",
       "    </tr>\n",
       "  </thead>\n",
       "  <tbody>\n",
       "    <tr>\n",
       "      <th>0</th>\n",
       "      <td>Jan-10</td>\n",
       "      <td>1088983</td>\n",
       "    </tr>\n",
       "    <tr>\n",
       "      <th>1</th>\n",
       "      <td>Feb-10</td>\n",
       "      <td>-354534</td>\n",
       "    </tr>\n",
       "    <tr>\n",
       "      <th>2</th>\n",
       "      <td>Mar-10</td>\n",
       "      <td>276622</td>\n",
       "    </tr>\n",
       "    <tr>\n",
       "      <th>3</th>\n",
       "      <td>Apr-10</td>\n",
       "      <td>-728133</td>\n",
       "    </tr>\n",
       "    <tr>\n",
       "      <th>4</th>\n",
       "      <td>May-10</td>\n",
       "      <td>852993</td>\n",
       "    </tr>\n",
       "  </tbody>\n",
       "</table>\n",
       "</div>"
      ],
      "text/plain": [
       "     Date  Profit/Losses\n",
       "0  Jan-10        1088983\n",
       "1  Feb-10        -354534\n",
       "2  Mar-10         276622\n",
       "3  Apr-10        -728133\n",
       "4  May-10         852993"
      ]
     },
     "execution_count": 87,
     "metadata": {},
     "output_type": "execute_result"
    }
   ],
   "source": [
    "budget_df.head()"
   ]
  },
  {
   "cell_type": "code",
   "execution_count": 15,
   "id": "120bff2b",
   "metadata": {},
   "outputs": [
    {
     "data": {
      "text/plain": [
       "86"
      ]
     },
     "execution_count": 15,
     "metadata": {},
     "output_type": "execute_result"
    }
   ],
   "source": [
    "total_months=(len(budget_df[\"Date\"]))\n",
    "total_months"
   ]
  },
  {
   "cell_type": "code",
   "execution_count": 16,
   "id": "ba5ad9a1",
   "metadata": {},
   "outputs": [
    {
     "data": {
      "text/plain": [
       "22564198"
      ]
     },
     "execution_count": 16,
     "metadata": {},
     "output_type": "execute_result"
    }
   ],
   "source": [
    "total = budget_df[\"Profit/Losses\"].sum()\n",
    "total"
   ]
  },
  {
   "cell_type": "code",
   "execution_count": 17,
   "id": "2954c80d",
   "metadata": {},
   "outputs": [
    {
     "data": {
      "text/plain": [
       "262374.3953488372"
      ]
     },
     "execution_count": 17,
     "metadata": {},
     "output_type": "execute_result"
    }
   ],
   "source": [
    "average_change = budget_df[\"Profit/Losses\"].mean()\n",
    "average_change"
   ]
  },
  {
   "cell_type": "code",
   "execution_count": 20,
   "id": "690096f4",
   "metadata": {
    "scrolled": false
   },
   "outputs": [
    {
     "data": {
      "text/plain": [
       "[-1443517,\n",
       " 631156,\n",
       " -1004755,\n",
       " 1581126,\n",
       " -289272,\n",
       " -1098929,\n",
       " 1167557,\n",
       " -806093,\n",
       " 1124485,\n",
       " -1736491,\n",
       " -408383,\n",
       " 604557,\n",
       " -294345,\n",
       " 1327485,\n",
       " 394323,\n",
       " 243585,\n",
       " -617439,\n",
       " -1530577,\n",
       " 1390390,\n",
       " -1130397,\n",
       " 1293604,\n",
       " 641758,\n",
       " -337413,\n",
       " -52031,\n",
       " -937192,\n",
       " 863841,\n",
       " -76245,\n",
       " -100481,\n",
       " -960729,\n",
       " 591856,\n",
       " 54930,\n",
       " 680102,\n",
       " -250254,\n",
       " -840415,\n",
       " 582358,\n",
       " -48628,\n",
       " -135256,\n",
       " 978586,\n",
       " -599210,\n",
       " -442789,\n",
       " 652924,\n",
       " -1005714,\n",
       " 1167373,\n",
       " -234900,\n",
       " -165147,\n",
       " -52275,\n",
       " -302320,\n",
       " 719028,\n",
       " -1825558,\n",
       " 1287083,\n",
       " -48303,\n",
       " 210234,\n",
       " -236414,\n",
       " 585165,\n",
       " -1400632,\n",
       " 839777,\n",
       " 465229,\n",
       " 317811,\n",
       " -760202,\n",
       " -71868,\n",
       " 795457,\n",
       " -182685,\n",
       " -1242836,\n",
       " 1371884,\n",
       " -445193,\n",
       " 10025,\n",
       " -1043998,\n",
       " 1350395,\n",
       " 80538,\n",
       " -1223250,\n",
       " 104148,\n",
       " 843924,\n",
       " -1808664,\n",
       " 1505005,\n",
       " 306402,\n",
       " -143603,\n",
       " -1266937,\n",
       " -162519,\n",
       " 1862002,\n",
       " -52986,\n",
       " -1627245,\n",
       " 616795,\n",
       " 628522,\n",
       " 90895,\n",
       " -224669]"
      ]
     },
     "execution_count": 20,
     "metadata": {},
     "output_type": "execute_result"
    }
   ],
   "source": [
    "mtm_change = [budget_df[\"Profit/Losses\"][i + 1] - budget_df[\"Profit/Losses\"][i] for i in range(len(budget_df[\"Profit/Losses\"])-1)] \n",
    "mtm_change"
   ]
  },
  {
   "cell_type": "code",
   "execution_count": 71,
   "id": "656540e3",
   "metadata": {},
   "outputs": [
    {
     "data": {
      "text/plain": [
       "1862002"
      ]
     },
     "execution_count": 71,
     "metadata": {},
     "output_type": "execute_result"
    }
   ],
   "source": [
    "mtm_change_max = max(mtm_change)\n",
    "mtm_change_max"
   ]
  },
  {
   "cell_type": "code",
   "execution_count": 70,
   "id": "f7405c71",
   "metadata": {},
   "outputs": [
    {
     "data": {
      "text/plain": [
       "-1825558"
      ]
     },
     "execution_count": 70,
     "metadata": {},
     "output_type": "execute_result"
    }
   ],
   "source": [
    "mtm_change_min = min(mtm_change)\n",
    "mtm_change_min"
   ]
  },
  {
   "cell_type": "code",
   "execution_count": 101,
   "id": "8c172c94",
   "metadata": {},
   "outputs": [
    {
     "data": {
      "text/plain": [
       "-8311.11"
      ]
     },
     "execution_count": 101,
     "metadata": {},
     "output_type": "execute_result"
    }
   ],
   "source": [
    "average_mtm = sum(mtm_change)/len(mtm_change)\n",
    "rounded_average = round(average,2)\n",
    "rounded_average"
   ]
  },
  {
   "cell_type": "code",
   "execution_count": 102,
   "id": "7caf732e",
   "metadata": {},
   "outputs": [
    {
     "name": "stdout",
     "output_type": "stream",
     "text": [
      "Financial Analysis\n",
      "----------------------------\n",
      "Total Months: 86\n",
      "Average Change: $-8311.11\n",
      "Greatest Increase in Profits $1862002\n",
      "Greatest Decrease in Profits $-1825558\n"
     ]
    }
   ],
   "source": [
    "print('Financial Analysis')\n",
    "print('----------------------------')\n",
    "print(\"Total Months: \" + str(total_months))\n",
    "print(\"Average Change: \" + \"$\" + str(rounded_average))\n",
    "print(\"Greatest Increase in Profits \" + \"$\" + str(mtm_change_max))\n",
    "print(\"Greatest Decrease in Profits \" + \"$\" + str(mtm_change_min))"
   ]
  }
 ],
 "metadata": {
  "kernelspec": {
   "display_name": "PythonData",
   "language": "python",
   "name": "pythondata"
  },
  "language_info": {
   "codemirror_mode": {
    "name": "ipython",
    "version": 3
   },
   "file_extension": ".py",
   "mimetype": "text/x-python",
   "name": "python",
   "nbconvert_exporter": "python",
   "pygments_lexer": "ipython3",
   "version": "3.7.7"
  }
 },
 "nbformat": 4,
 "nbformat_minor": 5
}
